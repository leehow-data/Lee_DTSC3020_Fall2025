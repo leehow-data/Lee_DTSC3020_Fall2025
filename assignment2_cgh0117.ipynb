{
  "nbformat": 4,
  "nbformat_minor": 0,
  "metadata": {
    "colab": {
      "provenance": [],
      "authorship_tag": "ABX9TyMRaKQ4MUQO4tPN7/rWUpKH",
      "include_colab_link": true
    },
    "kernelspec": {
      "name": "python3",
      "display_name": "Python 3"
    },
    "language_info": {
      "name": "python"
    }
  },
  "cells": [
    {
      "cell_type": "markdown",
      "metadata": {
        "id": "view-in-github",
        "colab_type": "text"
      },
      "source": [
        "<a href=\"https://colab.research.google.com/github/leehow-data/Lee_DTSC3020_Fall2025/blob/main/assignment2_cgh0117.ipynb\" target=\"_parent\"><img src=\"https://colab.research.google.com/assets/colab-badge.svg\" alt=\"Open In Colab\"/></a>"
      ]
    },
    {
      "cell_type": "code",
      "execution_count": 12,
      "metadata": {
        "colab": {
          "base_uri": "https://localhost:8080/"
        },
        "id": "6y3e4QKsYO8j",
        "outputId": "8f35306f-e535-43c3-ec22-d92688588126"
      },
      "outputs": [
        {
          "output_type": "stream",
          "name": "stdout",
          "text": [
            "['strawberry', 'grape', 'pear']\n",
            "strawberry\n",
            "grape\n",
            "pear\n"
          ]
        }
      ],
      "source": [
        "fruits = [\"strawberry\", \"grape\", \"pear\"]\n",
        "print(fruits)\n",
        "for fruit in fruits:\n",
        "  print(fruit)"
      ]
    },
    {
      "cell_type": "code",
      "source": [
        "names = [\"Scott\", \"Sawyer\", \"Anna\", \"Cassie\"]\n",
        "names[0] = \"Alex\"\n",
        "for name in names:\n",
        "  print(name)"
      ],
      "metadata": {
        "colab": {
          "base_uri": "https://localhost:8080/"
        },
        "id": "Cpm3x5RAYg85",
        "outputId": "fc326b39-4d9d-4b5f-85dc-c78183ce00c1"
      },
      "execution_count": 2,
      "outputs": [
        {
          "output_type": "stream",
          "name": "stdout",
          "text": [
            "Alex\n",
            "Sawyer\n",
            "Anna\n",
            "Cassie\n"
          ]
        }
      ]
    },
    {
      "cell_type": "code",
      "source": [
        "vehicles = [\"moped\", \"scooter\", \"bike\", \"car\", \"boat\"]\n",
        "vehicles.append(\"plane\")\n",
        "for vehicle in vehicles:\n",
        "  print(vehicle)"
      ],
      "metadata": {
        "colab": {
          "base_uri": "https://localhost:8080/"
        },
        "id": "CU_qFVqrYxgj",
        "outputId": "39618799-f75b-454c-8796-dfd164e33532"
      },
      "execution_count": 3,
      "outputs": [
        {
          "output_type": "stream",
          "name": "stdout",
          "text": [
            "moped\n",
            "scooter\n",
            "bike\n",
            "car\n",
            "boat\n",
            "plane\n"
          ]
        }
      ]
    },
    {
      "cell_type": "code",
      "source": [
        "foods = [\"chicken\", \"rice\", \"peas\", \"cake\", \"bread\", \"cheese\"]\n",
        "foods.remove(\"cake\")\n",
        "for food in foods:\n",
        "  print(food)"
      ],
      "metadata": {
        "colab": {
          "base_uri": "https://localhost:8080/"
        },
        "id": "QQK3fe49ZwDF",
        "outputId": "7477ad56-c4b9-4501-9e9b-62baff5cbe5b"
      },
      "execution_count": 9,
      "outputs": [
        {
          "output_type": "stream",
          "name": "stdout",
          "text": [
            "chicken\n",
            "rice\n",
            "peas\n",
            "bread\n",
            "cheese\n"
          ]
        }
      ]
    },
    {
      "cell_type": "code",
      "source": [
        "cities = [\"Dallas\", \"Denton\", \"Fort Worth\", \"Frisco\"]\n",
        "cities.sort()\n",
        "for city in cities:\n",
        "  print(city)\n",
        "cities.reverse()\n",
        "for city in cities:\n",
        "  print(city)"
      ],
      "metadata": {
        "colab": {
          "base_uri": "https://localhost:8080/"
        },
        "id": "ZkuWpnXHaCk9",
        "outputId": "ef233e89-87b0-409c-c6ad-e3c25628b13a"
      },
      "execution_count": 14,
      "outputs": [
        {
          "output_type": "stream",
          "name": "stdout",
          "text": [
            "Dallas\n",
            "Denton\n",
            "Fort Worth\n",
            "Frisco\n",
            "Frisco\n",
            "Fort Worth\n",
            "Denton\n",
            "Dallas\n"
          ]
        }
      ]
    },
    {
      "cell_type": "code",
      "source": [
        "animals = [\"pig\", \"horse\", \"cow\"]\n",
        "for animal in animals:\n",
        "  print(animal)"
      ],
      "metadata": {
        "colab": {
          "base_uri": "https://localhost:8080/"
        },
        "id": "F-2PUm3Palbn",
        "outputId": "3a7937a8-185c-4fda-cd81-fbaec4fdf011"
      },
      "execution_count": 15,
      "outputs": [
        {
          "output_type": "stream",
          "name": "stdout",
          "text": [
            "pig\n",
            "horse\n",
            "cow\n"
          ]
        }
      ]
    },
    {
      "cell_type": "code",
      "source": [
        "numbers = [1, 2, 3, 4, 5]\n",
        "for number in numbers:\n",
        "  print(number * 2)"
      ],
      "metadata": {
        "colab": {
          "base_uri": "https://localhost:8080/"
        },
        "id": "31f0Djylawt-",
        "outputId": "a9575dd4-686c-49cf-810e-a6446e32831c"
      },
      "execution_count": 16,
      "outputs": [
        {
          "output_type": "stream",
          "name": "stdout",
          "text": [
            "2\n",
            "4\n",
            "6\n",
            "8\n",
            "10\n"
          ]
        }
      ]
    },
    {
      "cell_type": "code",
      "source": [
        "friends = [\"Scott\", \"Ashley\", \"Caitlyn\", \"Holly\", \"Archer\", \"Gabe\"]\n",
        "for friend in friends[:3]:\n",
        "  print(friend)\n",
        "\n",
        "for friend in friends[3:]:\n",
        "  print(friend)"
      ],
      "metadata": {
        "colab": {
          "base_uri": "https://localhost:8080/"
        },
        "id": "UNLQjd6oa6aE",
        "outputId": "c9c5f595-4cd5-4102-8ea3-e8ab2537568b"
      },
      "execution_count": 19,
      "outputs": [
        {
          "output_type": "stream",
          "name": "stdout",
          "text": [
            "Scott\n",
            "Ashley\n",
            "Caitlyn\n",
            "Holly\n",
            "Archer\n",
            "Gabe\n"
          ]
        }
      ]
    },
    {
      "cell_type": "code",
      "source": [
        "for number in range(1, 11):\n",
        "  print(number)"
      ],
      "metadata": {
        "colab": {
          "base_uri": "https://localhost:8080/"
        },
        "id": "RO84BT6abTcC",
        "outputId": "99eef355-e4f6-4682-add3-b9a8c4c0e068"
      },
      "execution_count": 22,
      "outputs": [
        {
          "output_type": "stream",
          "name": "stdout",
          "text": [
            "1\n",
            "2\n",
            "3\n",
            "4\n",
            "5\n",
            "6\n",
            "7\n",
            "8\n",
            "9\n",
            "10\n"
          ]
        }
      ]
    },
    {
      "cell_type": "code",
      "source": [
        "squares = [value **2 for value in range(1, 6)]\n",
        "print(squares)"
      ],
      "metadata": {
        "colab": {
          "base_uri": "https://localhost:8080/"
        },
        "id": "gNg9YF8Ib__7",
        "outputId": "5a23e6ab-e9a8-4611-82ca-6e688a7cd0a0"
      },
      "execution_count": 23,
      "outputs": [
        {
          "output_type": "stream",
          "name": "stdout",
          "text": [
            "[1, 4, 9, 16, 25]\n"
          ]
        }
      ]
    }
  ]
}