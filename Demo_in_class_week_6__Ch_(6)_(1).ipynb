{
  "cells": [
    {
      "cell_type": "markdown",
      "metadata": {
        "id": "view-in-github",
        "colab_type": "text"
      },
      "source": [
        "<a href=\"https://colab.research.google.com/github/leehow-data/Lee_DTSC3020_Fall2025/blob/main/Demo_in_class_week_6__Ch_(6)_(1).ipynb\" target=\"_parent\"><img src=\"https://colab.research.google.com/assets/colab-badge.svg\" alt=\"Open In Colab\"/></a>"
      ]
    },
    {
      "cell_type": "markdown",
      "id": "9269f590",
      "metadata": {
        "id": "9269f590"
      },
      "source": [
        "# Introduction to Dictionaries in Python\n",
        "\n",
        "---\n",
        "\n",
        "### What is a Dictionary?\n",
        "\n",
        "A dictionary is a built-in Python data type that stores data in key–value pairs.\n",
        "\n",
        "---\n",
        "\n",
        "### Why Do We Use Dictionaries?\n",
        "\n",
        "Dictionaries help us:\n",
        "- Represent table-like data in a structured way.\n",
        "- Access specific information quickly using keys.\n",
        "- Store related data together in a meaningful format.\n",
        "\n",
        "---\n",
        "\n",
        "###  Rule: Keys Must Be Unique\n",
        "\n",
        "- The key must be unique (e.g., string, number).\n",
        "- The value can be:\n",
        "  - a single value (e.g., number, string)\n",
        "  - a list of values\n",
        "  - another dictionary (nested structure)\n"
      ]
    },
    {
      "cell_type": "markdown",
      "id": "bc69de7c",
      "metadata": {
        "id": "bc69de7c"
      },
      "source": [
        "###  Example 1: Table with Single Values (Names and Grades)\n",
        "\n",
        "| Student | Grade |\n",
        "|---------|-------|\n",
        "| Anna    | 90    |\n",
        "| John    | 85    |\n",
        "| Sara    | 95    |\n"
      ]
    },
    {
      "cell_type": "code",
      "source": [
        "student_grades = { \"Anna\": 90, \"John\": 85, \"Sara\": 95}\n",
        "student_grades"
      ],
      "metadata": {
        "id": "_vMsXyob1VKY",
        "colab": {
          "base_uri": "https://localhost:8080/"
        },
        "outputId": "fa0669ed-1ad8-42c4-97e4-3a1df909e48d"
      },
      "id": "_vMsXyob1VKY",
      "execution_count": 7,
      "outputs": [
        {
          "output_type": "execute_result",
          "data": {
            "text/plain": [
              "{'Anna': 90, 'John': 85, 'Sara': 95}"
            ]
          },
          "metadata": {},
          "execution_count": 7
        }
      ]
    },
    {
      "cell_type": "markdown",
      "id": "63ff0086",
      "metadata": {
        "id": "63ff0086"
      },
      "source": [
        "### Example 2: Table with List as Value (Students and Their Courses)\n",
        "\n",
        "| Student | Courses              |\n",
        "|---------|----------------------|\n",
        "| Anna    | [“Math”, “Biology”]  |\n",
        "| John    | [“English”, “History”] |\n",
        "| Sara    | [“Physics”, “Chemistry”] |\n"
      ]
    },
    {
      "cell_type": "code",
      "source": [
        "student_courses = {\n",
        "    \"Anna\": [\"Math\", \"Biology\"],\n",
        "    \"John\": [\"English\", \"History\"],\n",
        "    \"Sara\": [\"Physics\", \"Chemistry\"]\n",
        "}\n",
        "student_courses"
      ],
      "metadata": {
        "id": "4BoaZ4Lm0l5m",
        "colab": {
          "base_uri": "https://localhost:8080/"
        },
        "outputId": "a908938b-2c16-45d5-e49a-c66e05a1dbc9"
      },
      "id": "4BoaZ4Lm0l5m",
      "execution_count": 8,
      "outputs": [
        {
          "output_type": "execute_result",
          "data": {
            "text/plain": [
              "{'Anna': ['Math', 'Biology'],\n",
              " 'John': ['English', 'History'],\n",
              " 'Sara': ['Physics', 'Chemistry']}"
            ]
          },
          "metadata": {},
          "execution_count": 8
        }
      ]
    },
    {
      "cell_type": "markdown",
      "id": "08fa5e5f",
      "metadata": {
        "id": "08fa5e5f"
      },
      "source": [
        "### Example 3: Table with Dictionary as Value (Books Info)\n",
        "\n",
        "| Book    | Info                           |\n",
        "|---------|--------------------------------|\n",
        "| Book A  | {“pages”: 200, “available”: True}  |\n",
        "| Book B  | {“pages”: 150, “available”: False} |\n",
        "| Book C  | {“pages”: 300, “available”: True}  |\n"
      ]
    },
    {
      "cell_type": "code",
      "source": [
        "books_info = {\n",
        "    \"Book A\": {\"pages\": 200, \"available\": True},\n",
        "    \"Book B\": {\"pages\": 150, \"available\": False},\n",
        "    \"Book C\": {\"pages\": 300, \"available\": True}\n",
        "}\n",
        "books_info"
      ],
      "metadata": {
        "id": "bcAlqJFy0wZr",
        "colab": {
          "base_uri": "https://localhost:8080/"
        },
        "outputId": "d0efd1f2-fdc9-42c0-f24f-14fafafc9252"
      },
      "id": "bcAlqJFy0wZr",
      "execution_count": 9,
      "outputs": [
        {
          "output_type": "execute_result",
          "data": {
            "text/plain": [
              "{'Book A': {'pages': 200, 'available': True},\n",
              " 'Book B': {'pages': 150, 'available': False},\n",
              " 'Book C': {'pages': 300, 'available': True}}"
            ]
          },
          "metadata": {},
          "execution_count": 9
        }
      ]
    },
    {
      "cell_type": "code",
      "execution_count": 10,
      "id": "c05783b3",
      "metadata": {
        "id": "c05783b3"
      },
      "outputs": [],
      "source": [
        "student_grades = {\n",
        "    \"Anna\": 90,\n",
        "    \"John\": 85,\n",
        "    \"Sara\": 95\n",
        "}"
      ]
    },
    {
      "cell_type": "markdown",
      "source": [
        "Accessing Data in Dictionaries"
      ],
      "metadata": {
        "id": "hgFoaSxeWzsC"
      },
      "id": "hgFoaSxeWzsC"
    },
    {
      "cell_type": "code",
      "source": [
        "# Direct Access with [ ]\n",
        "# dictionary_name[\"key\"]\n",
        "\n",
        "student_grades = {\n",
        "    \"Anna\": 90,\n",
        "    \"John\": 85,\n",
        "    \"Sara\": 95\n",
        "}\n",
        "\n",
        "print(student_grades[\"Anna\"])\n"
      ],
      "metadata": {
        "colab": {
          "base_uri": "https://localhost:8080/"
        },
        "id": "r19Hhk1B2kso",
        "outputId": "4fc1fea3-68d8-46c9-f1fb-8b78f60b657a"
      },
      "id": "r19Hhk1B2kso",
      "execution_count": 11,
      "outputs": [
        {
          "output_type": "stream",
          "name": "stdout",
          "text": [
            "90\n"
          ]
        }
      ]
    },
    {
      "cell_type": "code",
      "source": [
        "# Safe access with .get(\" \")\n",
        "\n",
        "\n",
        "student_grades = {\n",
        "    \"Anna\": 90,\n",
        "    \"John\": 85,\n",
        "    \"Sara\": 95\n",
        "}\n",
        "print(student_grades.get(\"Mike\", 'student does not exist'))  # Returns None"
      ],
      "metadata": {
        "colab": {
          "base_uri": "https://localhost:8080/"
        },
        "id": "-3yuaA0X155M",
        "outputId": "a2e65d9d-9a7d-46c6-ea38-eaf1a882c6ab"
      },
      "id": "-3yuaA0X155M",
      "execution_count": 31,
      "outputs": [
        {
          "output_type": "stream",
          "name": "stdout",
          "text": [
            "student does not exist\n"
          ]
        }
      ]
    },
    {
      "cell_type": "code",
      "source": [
        "# Check if a key exists using in\n",
        "# in\n",
        "student_grades = {\n",
        "    \"Anna\": 90,\n",
        "    \"John\": 85,\n",
        "    \"Sara\": 95\n",
        "}\n",
        "\n",
        "print(\"Sara\" in student_grades)\n",
        "print(\"Mike\" in student_grades)"
      ],
      "metadata": {
        "colab": {
          "base_uri": "https://localhost:8080/"
        },
        "id": "DA_Ddz9k15sN",
        "outputId": "7a50dbdb-e480-40fc-e742-88b5f466daf5"
      },
      "id": "DA_Ddz9k15sN",
      "execution_count": 13,
      "outputs": [
        {
          "output_type": "stream",
          "name": "stdout",
          "text": [
            "True\n",
            "False\n"
          ]
        }
      ]
    },
    {
      "cell_type": "markdown",
      "source": [
        " Methods"
      ],
      "metadata": {
        "id": "oZvUUK1y2tUp"
      },
      "id": "oZvUUK1y2tUp"
    },
    {
      "cell_type": "code",
      "source": [
        "# .keys() Returns a list-like view of all the keys in the dictionary.\n",
        "\n",
        "\n",
        "student_grades = {\n",
        "    \"Anna\": 90,\n",
        "    \"John\": 85,\n",
        "    \"Sara\": 95\n",
        "}\n",
        "\n",
        "print(student_grades.keys())"
      ],
      "metadata": {
        "colab": {
          "base_uri": "https://localhost:8080/"
        },
        "id": "1-LiHrY-15kU",
        "outputId": "1faf7853-da0b-48cd-e037-24995289d95c"
      },
      "id": "1-LiHrY-15kU",
      "execution_count": 14,
      "outputs": [
        {
          "output_type": "stream",
          "name": "stdout",
          "text": [
            "dict_keys(['Anna', 'John', 'Sara'])\n"
          ]
        }
      ]
    },
    {
      "cell_type": "code",
      "source": [
        "# .values() Returns a list-like view of all the values in the dictionary.\n",
        "\n",
        "student_grades = {\n",
        "    \"Anna\": 90,\n",
        "    \"John\": 85,\n",
        "    \"Sara\": 95\n",
        "}\n",
        "\n",
        "print(student_grades.values())"
      ],
      "metadata": {
        "colab": {
          "base_uri": "https://localhost:8080/"
        },
        "id": "8FPlVPTS15ao",
        "outputId": "b8c6bde8-83ae-4847-b04c-843500411d9c"
      },
      "id": "8FPlVPTS15ao",
      "execution_count": 15,
      "outputs": [
        {
          "output_type": "stream",
          "name": "stdout",
          "text": [
            "dict_values([90, 85, 95])\n"
          ]
        }
      ]
    },
    {
      "cell_type": "code",
      "source": [
        "# .items() Returns all (key, value) pairs in the dictionary as tuples.\n",
        "\n",
        "student_grades = {\n",
        "    \"Anna\": 90,\n",
        "    \"John\": 85,\n",
        "    \"Sara\": 95\n",
        "}\n",
        "\n",
        "print(student_grades.items())"
      ],
      "metadata": {
        "colab": {
          "base_uri": "https://localhost:8080/"
        },
        "id": "CvW5gR_T15R_",
        "outputId": "5547cf23-ac52-4513-acf8-cf6ce2cc11ed"
      },
      "id": "CvW5gR_T15R_",
      "execution_count": 16,
      "outputs": [
        {
          "output_type": "stream",
          "name": "stdout",
          "text": [
            "dict_items([('Anna', 90), ('John', 85), ('Sara', 95)])\n"
          ]
        }
      ]
    },
    {
      "cell_type": "markdown",
      "source": [
        " Add / Update"
      ],
      "metadata": {
        "id": "WFkL-hF42bub"
      },
      "id": "WFkL-hF42bub"
    },
    {
      "cell_type": "code",
      "source": [
        "# Updating a value using brackets with the key\n",
        "\n",
        "student_grades = {\n",
        "    \"Anna\": 90,\n",
        "    \"John\": 85,\n",
        "    \"Sara\": 95\n",
        "}\n",
        "\n",
        "student_grades[\"Sara\"] = 97\n",
        "student_grades[\"Mike\"] = 88\n",
        "\n",
        "print(student_grades)"
      ],
      "metadata": {
        "colab": {
          "base_uri": "https://localhost:8080/"
        },
        "id": "GmDNDO-v2NDI",
        "outputId": "41963e7e-f362-4506-9804-c06cdc924a7b"
      },
      "id": "GmDNDO-v2NDI",
      "execution_count": 17,
      "outputs": [
        {
          "output_type": "stream",
          "name": "stdout",
          "text": [
            "{'Anna': 90, 'John': 85, 'Sara': 97, 'Mike': 88}\n"
          ]
        }
      ]
    },
    {
      "cell_type": "code",
      "source": [
        "#  We can remove item using del\n",
        "\n",
        "student_grades = {\n",
        "    \"Anna\": 90,\n",
        "    \"John\": 85,\n",
        "    \"Sara\": 95\n",
        "}\n",
        "\n",
        "del student_grades[\"Sara\"]\n",
        "print(student_grades)\n"
      ],
      "metadata": {
        "colab": {
          "base_uri": "https://localhost:8080/"
        },
        "id": "Ihy8ZaBo2M8H",
        "outputId": "7d408bee-e4a0-45d8-ecaa-2478b894ed22"
      },
      "id": "Ihy8ZaBo2M8H",
      "execution_count": 18,
      "outputs": [
        {
          "output_type": "stream",
          "name": "stdout",
          "text": [
            "{'Anna': 90, 'John': 85}\n"
          ]
        }
      ]
    },
    {
      "cell_type": "markdown",
      "id": "7e46e664",
      "metadata": {
        "id": "7e46e664"
      },
      "source": [
        "#  Part 2 – Practice Exercises\n",
        "\n",
        "---\n",
        "\n",
        "### ✅ Exercise 1: High Grades (using key-value)\n",
        "Write a Python program that defines a dictionary of students and their grades. Print the names and grades of only those students who scored more than 18.\n"
      ]
    },
    {
      "cell_type": "code",
      "execution_count": 33,
      "id": "a48d998b",
      "metadata": {
        "colab": {
          "base_uri": "https://localhost:8080/"
        },
        "id": "a48d998b",
        "outputId": "ce7fa4cf-74b0-4e7a-bd69-da21012f74a8"
      },
      "outputs": [
        {
          "output_type": "stream",
          "name": "stdout",
          "text": [
            "Ali 19\n",
            "Reza 20\n",
            "Omid 18.5\n"
          ]
        }
      ],
      "source": [
        "grades = {\n",
        "    'Ali': 19,\n",
        "    'Sara': 17,\n",
        "    'Reza': 20,\n",
        "    'Lina': 15,\n",
        "    'Omid': 18.5\n",
        "}\n",
        "\n",
        "##print(grades.items())\n",
        "\n",
        "for key, value in grades.items():\n",
        "    if value > 18:\n",
        "        print(key, value)\n"
      ]
    },
    {
      "cell_type": "markdown",
      "id": "4ac4bbec",
      "metadata": {
        "id": "4ac4bbec"
      },
      "source": [
        "---\n",
        "\n",
        "### ✅ Exercise 2: Registered for Python Course (using key-value)\n",
        "You are given a dictionary where each key is a student and the value is a list of courses they registered for. Print the names of students who registered for ‘Python’.\n"
      ]
    },
    {
      "cell_type": "code",
      "execution_count": 34,
      "id": "140f37b7",
      "metadata": {
        "colab": {
          "base_uri": "https://localhost:8080/"
        },
        "id": "140f37b7",
        "outputId": "7c4ab9fc-35ea-4130-ff5b-7fe91e0ed23e"
      },
      "outputs": [
        {
          "output_type": "stream",
          "name": "stdout",
          "text": [
            "Ali\n",
            "Reza\n"
          ]
        }
      ],
      "source": [
        "courses = {\n",
        "    'Ali': ['Python', 'Math'],\n",
        "    'Sara': ['Biology', 'Chemistry'],\n",
        "    'Reza': ['Python', 'AI'],\n",
        "    'Lina': ['English', 'History']\n",
        "}\n",
        "\n",
        "for key, value in courses.items():\n",
        "    if 'Python' in value:\n",
        "        print(key)\n"
      ]
    },
    {
      "cell_type": "markdown",
      "id": "757a7b5c",
      "metadata": {
        "id": "757a7b5c"
      },
      "source": [
        "---\n",
        "\n",
        "### ✅ Exercise 3: Filter Library Books (using key-value)\n",
        "You are given a dictionary of books. Each book has a sub-dictionary with the number of pages and a (true or false) indicating if it is available. Print the titles of books that are available and have more than 150 pages.\n"
      ]
    },
    {
      "cell_type": "code",
      "execution_count": 21,
      "id": "a244b836",
      "metadata": {
        "colab": {
          "base_uri": "https://localhost:8080/"
        },
        "id": "a244b836",
        "outputId": "1e1cebfc-65d7-4e17-be98-97d7b2132b96"
      },
      "outputs": [
        {
          "output_type": "stream",
          "name": "stdout",
          "text": [
            "Python101\n",
            "Statistics\n"
          ]
        }
      ],
      "source": [
        "library = {\n",
        "    'Python101': {'pages': 180, 'available': True},\n",
        "    'AI Basics': {'pages': 130, 'available': True},\n",
        "    'Math Advanced': {'pages': 200, 'available': False},\n",
        "    'Statistics': {'pages': 175, 'available': True}\n",
        "}\n",
        "\n",
        "\n",
        "\n",
        "for key, value in library.items():\n",
        "    if value['available'] and value['pages'] > 150:\n",
        "        print(key)\n"
      ]
    },
    {
      "cell_type": "markdown",
      "id": "da40bc66",
      "metadata": {
        "id": "da40bc66"
      },
      "source": [
        "---\n",
        "\n",
        "### ✅ Exercise 4: Highest Grade (using key-value)\n",
        "Given a dictionary of student grades, write a Python program that finds and prints the name of the student with the highest grade.\n"
      ]
    },
    {
      "cell_type": "code",
      "execution_count": 22,
      "id": "c4a14d29",
      "metadata": {
        "id": "c4a14d29",
        "colab": {
          "base_uri": "https://localhost:8080/"
        },
        "outputId": "ff9fb3e8-1fbf-4ee1-9461-12dafd2aaf6e"
      },
      "outputs": [
        {
          "output_type": "stream",
          "name": "stdout",
          "text": [
            "Lina\n"
          ]
        }
      ],
      "source": [
        "grades = {\n",
        "    'Ali': 17,\n",
        "    'Sara': 19,\n",
        "    'Reza': 18.5,\n",
        "    'Lina': 20\n",
        "}\n",
        "\n",
        "highest = max(grades.values())\n",
        "\n",
        "for key, value in grades.items():\n",
        "    if value == highest:\n",
        "        print(key)\n"
      ]
    },
    {
      "cell_type": "markdown",
      "source": [
        "### ✅ Exercise 5 : using set()\n",
        "\n",
        "\n",
        "You are given a dictionary of students and their grades.\n",
        "Some students may have the same grade.\n",
        "\n",
        "we want to write a program that prints only the unique grades using set().\n"
      ],
      "metadata": {
        "id": "sOda0gU393PD"
      },
      "id": "sOda0gU393PD"
    },
    {
      "cell_type": "code",
      "source": [
        "grades = {\n",
        "    'Ali': 18,\n",
        "    'Sara': 17,\n",
        "    'Reza': 18,\n",
        "    'Lina': 19,\n",
        "    'Omid': 17\n",
        "}\n",
        "\n",
        "print( grades.values())"
      ],
      "metadata": {
        "colab": {
          "base_uri": "https://localhost:8080/"
        },
        "id": "Z-rEyWtA-GYv",
        "outputId": "c37f22a9-f258-48f6-c6f7-f9faa2114e13"
      },
      "id": "Z-rEyWtA-GYv",
      "execution_count": 23,
      "outputs": [
        {
          "output_type": "stream",
          "name": "stdout",
          "text": [
            "dict_values([18, 17, 18, 19, 17])\n"
          ]
        }
      ]
    },
    {
      "cell_type": "code",
      "source": [
        "grades = {\n",
        "    'Ali': 18,\n",
        "    'Sara': 17,\n",
        "    'Reza': 18,\n",
        "    'Lina': 19,\n",
        "    'Omid': 17\n",
        "}\n",
        "\n",
        "unique_grades = set(grades.values())\n",
        "\n",
        "print(\"Unique grades:\", unique_grades)\n",
        "##print(f\"Unique grades: {set(grades.values())}\")"
      ],
      "metadata": {
        "colab": {
          "base_uri": "https://localhost:8080/"
        },
        "id": "CKEoL9j4_MZK",
        "outputId": "b97fa344-d53c-4a45-8749-e254f5c4537a"
      },
      "id": "CKEoL9j4_MZK",
      "execution_count": 37,
      "outputs": [
        {
          "output_type": "stream",
          "name": "stdout",
          "text": [
            "Unique grades: {17, 18, 19}\n"
          ]
        }
      ]
    },
    {
      "cell_type": "markdown",
      "source": [
        "### ✅ Exercise 6\n",
        "You are given a dictionary that shows how many hours each student studied during the week.\n",
        "\n",
        "Write a program that calculates the total number of hours studied by all students combined."
      ],
      "metadata": {
        "id": "t1HaPmDO_2Zb"
      },
      "id": "t1HaPmDO_2Zb"
    },
    {
      "cell_type": "code",
      "source": [
        "study_hours = {\n",
        "    'Ali': 5,\n",
        "    'Sara': 8,\n",
        "    'Reza': 4,\n",
        "    'Lina': 7,\n",
        "    'Omid': 6\n",
        "}\n",
        "# way 1 using\n",
        "\n",
        "total = 0\n",
        "for key, value in study_hours.items():\n",
        "    total += value #(total= total + value )\n",
        "\n",
        "    # first round => total = 0 + 5 =5\n",
        "    # second round => total = 5 + 8 = 13\n",
        "    # third round => total = 13 + 4 =17\n",
        "    # fourth round => total = 17 + 7 = 24\n",
        "    # fifth round => total = 24 + 6 = 30\n",
        "\n",
        "print(total)"
      ],
      "metadata": {
        "colab": {
          "base_uri": "https://localhost:8080/"
        },
        "id": "ZjQQJtcT_293",
        "outputId": "cc9dad9e-fcf8-479e-c9b9-9e3a56842b3a"
      },
      "id": "ZjQQJtcT_293",
      "execution_count": 25,
      "outputs": [
        {
          "output_type": "stream",
          "name": "stdout",
          "text": [
            "30\n"
          ]
        }
      ]
    },
    {
      "cell_type": "code",
      "source": [
        "# way 2 using sum() and .valus()\n",
        "total = sum(study_hours.values())\n",
        "print(total)"
      ],
      "metadata": {
        "colab": {
          "base_uri": "https://localhost:8080/"
        },
        "id": "-XAJAIZPB4AE",
        "outputId": "ca587fa5-bca5-4ab6-ea77-0316fe15df08"
      },
      "id": "-XAJAIZPB4AE",
      "execution_count": 26,
      "outputs": [
        {
          "output_type": "stream",
          "name": "stdout",
          "text": [
            "30\n"
          ]
        }
      ]
    },
    {
      "cell_type": "code",
      "source": [
        "# way 3 using list comprehension\n",
        "total = sum([value for value in study_hours.values()])\n",
        "print(total)"
      ],
      "metadata": {
        "colab": {
          "base_uri": "https://localhost:8080/"
        },
        "id": "u75gtGFaCFaI",
        "outputId": "3545dc8b-102c-4dda-b027-c0a76258094b"
      },
      "id": "u75gtGFaCFaI",
      "execution_count": 27,
      "outputs": [
        {
          "output_type": "stream",
          "name": "stdout",
          "text": [
            "30\n"
          ]
        }
      ]
    },
    {
      "cell_type": "markdown",
      "source": [
        "if we want to Write a program that calculates the total number of study hours for students who studied more than 2 hours.\n"
      ],
      "metadata": {
        "id": "MqzRluMAClQX"
      },
      "id": "MqzRluMAClQX"
    },
    {
      "cell_type": "code",
      "source": [
        "study_hours = {\n",
        "    'Ali': 1,\n",
        "    'Sara': 3,\n",
        "    'Reza': 0,\n",
        "    'Lina': 4,\n",
        "    'Omid': 2\n",
        "}\n",
        "\n",
        "total = sum([value for value in study_hours.values() if value > 2])\n",
        "print(\"Total study hours for students who studied more than 2 hours:\", total)"
      ],
      "metadata": {
        "colab": {
          "base_uri": "https://localhost:8080/"
        },
        "id": "w5KB0x8MCosq",
        "outputId": "0c32e681-98eb-444e-bbf6-bcc44140d81a"
      },
      "id": "w5KB0x8MCosq",
      "execution_count": 28,
      "outputs": [
        {
          "output_type": "stream",
          "name": "stdout",
          "text": [
            "Total study hours for students who studied more than 2 hours: 7\n"
          ]
        }
      ]
    },
    {
      "cell_type": "markdown",
      "id": "6ce1ce79",
      "metadata": {
        "id": "6ce1ce79"
      },
      "source": [
        "---\n",
        "\n",
        "### ✅ Final Class Exercise: Library Borrowing (using key-value)\n",
        "You are given a dictionary that shows how many books each student has borrowed. Write a Python program to:\n",
        "1.  Print the names of students who borrowed more than 2 books.\n",
        "2. alculate the total number of borrowed books.\n"
      ]
    },
    {
      "cell_type": "code",
      "execution_count": 29,
      "id": "e59d437e",
      "metadata": {
        "id": "e59d437e",
        "colab": {
          "base_uri": "https://localhost:8080/"
        },
        "outputId": "8ff8e32b-7f90-4695-b124-8c72459d2ed6"
      },
      "outputs": [
        {
          "output_type": "stream",
          "name": "stdout",
          "text": [
            "Sara has borrowed quite a few, 3 to be exact!\n",
            "Lina has borrowed quite a few, 4 to be exact!\n",
            "There have been 10 books borrowed total.\n"
          ]
        }
      ],
      "source": [
        "borrowed_books = {\n",
        "    'Ali': 1,\n",
        "    'Sara': 3,\n",
        "    'Reza': 0,\n",
        "    'Lina': 4,\n",
        "    'Omid': 2\n",
        "}\n",
        "num_books = 0\n",
        "for name, number in borrowed_books.items():\n",
        "    if number > 2:\n",
        "        print(f\"{name} has borrowed quite a few, {number} to be exact!\")\n",
        "    num_books += number\n",
        "print(f\"There have been {num_books} books borrowed total.\")\n"
      ]
    },
    {
      "cell_type": "markdown",
      "id": "e1397301",
      "metadata": {
        "id": "e1397301"
      },
      "source": [
        "---\n",
        "\n",
        "##  Assignment Submission Instructions\n",
        "Assignment Instructions\n",
        " 1. Download the Student_In_Class -Assignment_Ch 6  notebook file from Canvas\n",
        " 2. Write your answers for Part 1 and Part 2 directly in the notebook.\n",
        " 3. Save the completed notebook file.\n",
        " 4. Upload the notebook to your GitHub account.\n",
        " 5. Submit the GitHub link.\n",
        "\n",
        " This exercise is worth 1 point."
      ]
    }
  ],
  "metadata": {
    "colab": {
      "provenance": [],
      "include_colab_link": true
    },
    "language_info": {
      "name": "python"
    },
    "kernelspec": {
      "name": "python3",
      "display_name": "Python 3"
    }
  },
  "nbformat": 4,
  "nbformat_minor": 5
}