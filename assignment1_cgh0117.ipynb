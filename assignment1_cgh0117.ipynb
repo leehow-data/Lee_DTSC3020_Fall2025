{
  "nbformat": 4,
  "nbformat_minor": 0,
  "metadata": {
    "colab": {
      "provenance": [],
      "authorship_tag": "ABX9TyMp5RGMMOzS5SimKCITwA/X",
      "include_colab_link": true
    },
    "kernelspec": {
      "name": "python3",
      "display_name": "Python 3"
    },
    "language_info": {
      "name": "python"
    }
  },
  "cells": [
    {
      "cell_type": "markdown",
      "metadata": {
        "id": "view-in-github",
        "colab_type": "text"
      },
      "source": [
        "<a href=\"https://colab.research.google.com/github/leehow-data/Lee_DTSC3020_Fall2025/blob/main/assignment1_cgh0117.ipynb\" target=\"_parent\"><img src=\"https://colab.research.google.com/assets/colab-badge.svg\" alt=\"Open In Colab\"/></a>"
      ]
    },
    {
      "cell_type": "code",
      "execution_count": null,
      "metadata": {
        "id": "WYdY6J31KT-K"
      },
      "outputs": [],
      "source": [
        "print(\"Hello, World!\")"
      ]
    }
  ]
}