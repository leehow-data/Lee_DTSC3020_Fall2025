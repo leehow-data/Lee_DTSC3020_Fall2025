{
  "nbformat": 4,
  "nbformat_minor": 0,
  "metadata": {
    "colab": {
      "provenance": [],
      "authorship_tag": "ABX9TyNKtVbictEyl3kW2cp/On25",
      "include_colab_link": true
    },
    "kernelspec": {
      "name": "python3",
      "display_name": "Python 3"
    },
    "language_info": {
      "name": "python"
    }
  },
  "cells": [
    {
      "cell_type": "markdown",
      "metadata": {
        "id": "view-in-github",
        "colab_type": "text"
      },
      "source": [
        "<a href=\"https://colab.research.google.com/github/leehow-data/Lee_DTSC3020_Fall2025/blob/main/in_class_exercise_01.ipynb\" target=\"_parent\"><img src=\"https://colab.research.google.com/assets/colab-badge.svg\" alt=\"Open In Colab\"/></a>"
      ]
    },
    {
      "cell_type": "code",
      "execution_count": 2,
      "metadata": {
        "colab": {
          "base_uri": "https://localhost:8080/"
        },
        "id": "iVf3IhNnPtFk",
        "outputId": "1c0982cc-efda-47dd-ab29-55fdd2afaaa5"
      },
      "outputs": [
        {
          "output_type": "stream",
          "name": "stdout",
          "text": [
            "hello world\n"
          ]
        }
      ],
      "source": [
        "print(\"hello world\")"
      ]
    },
    {
      "cell_type": "markdown",
      "source": [
        "This is **bold**\n",
        "This is *italic*.\n",
        "This is ~strikethrough~\n",
        "# makes a title\n",
        "$(sqrt2)/1$\n",
        "\n",
        "testing update\n",
        "download python and pycharm and jupyter notebook and optional ai assitancts"
      ],
      "metadata": {
        "id": "pgV-QSYsQ6yU"
      }
    },
    {
      "cell_type": "markdown",
      "source": [
        "print(\"Welcome to python\")\n",
        "print(\"Hello\")\n",
        "print(\"World\")\n",
        "print(\"Hi\")"
      ],
      "metadata": {
        "id": "rVio-FAFSepA"
      }
    },
    {
      "cell_type": "code",
      "source": [
        "print(\"Welcome to python\")\n",
        "print (\"Hello\")\n",
        "print(\"World\")\n",
        "print(\"Hi\")"
      ],
      "metadata": {
        "colab": {
          "base_uri": "https://localhost:8080/"
        },
        "id": "Um93EWZJSt1E",
        "outputId": "6d30e865-907c-4ffd-9aaf-a7a8c0c82fae"
      },
      "execution_count": 3,
      "outputs": [
        {
          "output_type": "stream",
          "name": "stdout",
          "text": [
            "Welcome to python\n",
            "Hello\n",
            "World\n",
            "Hi\n"
          ]
        }
      ]
    },
    {
      "cell_type": "code",
      "source": [
        "name = \"Lee\"\n",
        "print(name)"
      ],
      "metadata": {
        "colab": {
          "base_uri": "https://localhost:8080/"
        },
        "id": "2MMRqMrGTJQ8",
        "outputId": "376ffc1d-23ac-4375-ad34-c355aa5eb929"
      },
      "execution_count": 4,
      "outputs": [
        {
          "output_type": "stream",
          "name": "stdout",
          "text": [
            "Lee\n"
          ]
        }
      ]
    },
    {
      "cell_type": "code",
      "source": [
        "print(\"welcome to python,\", name)"
      ],
      "metadata": {
        "colab": {
          "base_uri": "https://localhost:8080/"
        },
        "id": "XIw-cbqDTN3S",
        "outputId": "5e83055a-489b-4836-801e-1cf160acb4ed"
      },
      "execution_count": 6,
      "outputs": [
        {
          "output_type": "stream",
          "name": "stdout",
          "text": [
            "welcome to python, Lee\n"
          ]
        }
      ]
    },
    {
      "cell_type": "code",
      "source": [],
      "metadata": {
        "id": "ULDSue8ETVr0"
      },
      "execution_count": null,
      "outputs": []
    }
  ]
}